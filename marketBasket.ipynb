{
 "cells": [
  {
   "cell_type": "code",
   "execution_count": 36,
   "id": "1c5550dc",
   "metadata": {},
   "outputs": [],
   "source": [
    "import numpy as np\n",
    "import pandas as pd"
   ]
  },
  {
   "cell_type": "markdown",
   "id": "672b4575",
   "metadata": {},
   "source": [
    "DataSet Loading And Inspection"
   ]
  },
  {
   "cell_type": "code",
   "execution_count": 37,
   "id": "48c9bf75",
   "metadata": {},
   "outputs": [],
   "source": [
    "df=pd.read_csv('Groceries_dataset.csv')"
   ]
  },
  {
   "cell_type": "code",
   "execution_count": 38,
   "id": "5404a00f",
   "metadata": {},
   "outputs": [
    {
     "name": "stdout",
     "output_type": "stream",
     "text": [
      "(38765, 3)\n",
      "   Member_number        Date   itemDescription\n",
      "0           1808  21-07-2015    tropical fruit\n",
      "1           2552  05-01-2015        whole milk\n",
      "2           2300  19-09-2015         pip fruit\n",
      "3           1187  12-12-2015  other vegetables\n",
      "4           3037  01-02-2015        whole milk\n",
      "<class 'pandas.core.frame.DataFrame'>\n",
      "RangeIndex: 38765 entries, 0 to 38764\n",
      "Data columns (total 3 columns):\n",
      " #   Column           Non-Null Count  Dtype \n",
      "---  ------           --------------  ----- \n",
      " 0   Member_number    38765 non-null  int64 \n",
      " 1   Date             38765 non-null  object\n",
      " 2   itemDescription  38765 non-null  object\n",
      "dtypes: int64(1), object(2)\n",
      "memory usage: 908.7+ KB\n",
      "None\n",
      "       Member_number\n",
      "count   38765.000000\n",
      "mean     3003.641868\n",
      "std      1153.611031\n",
      "min      1000.000000\n",
      "25%      2002.000000\n",
      "50%      3005.000000\n",
      "75%      4007.000000\n",
      "max      5000.000000\n"
     ]
    }
   ],
   "source": [
    "print(df.shape)\n",
    "print(df.head())\n",
    "print(df.info())\n",
    "print(df.describe())"
   ]
  },
  {
   "cell_type": "markdown",
   "id": "fb172a5e",
   "metadata": {},
   "source": [
    "Normalise item names"
   ]
  },
  {
   "cell_type": "code",
   "execution_count": 39,
   "id": "6d40a722",
   "metadata": {},
   "outputs": [],
   "source": [
    "import re"
   ]
  },
  {
   "cell_type": "code",
   "execution_count": 40,
   "id": "7d9344a4",
   "metadata": {},
   "outputs": [],
   "source": [
    "def clean_item(item):\n",
    "    if pd.isna(item):\n",
    "        return \"\"\n",
    "    item = str(item).lower()                 # lowercase\n",
    "    item = re.sub(r'[^a-z\\s]', '', item)     # keep only letters & spaces\n",
    "    item = re.sub(r'\\s+', ' ', item).strip() # collapse multiple spaces\n",
    "    return item\n"
   ]
  },
  {
   "cell_type": "code",
   "execution_count": 41,
   "id": "11c0bbe5",
   "metadata": {},
   "outputs": [
    {
     "name": "stdout",
     "output_type": "stream",
     "text": [
      "    itemDescription           cleaned\n",
      "0    tropical fruit    tropical fruit\n",
      "1        whole milk        whole milk\n",
      "2         pip fruit         pip fruit\n",
      "3  other vegetables  other vegetables\n",
      "4        whole milk        whole milk\n",
      "5        rolls/buns         rollsbuns\n",
      "6  other vegetables  other vegetables\n",
      "7        pot plants        pot plants\n",
      "8        whole milk        whole milk\n",
      "9    tropical fruit    tropical fruit\n"
     ]
    }
   ],
   "source": [
    "df['cleaned'] = df['itemDescription'].apply(clean_item)\n",
    "print(df[['itemDescription', 'cleaned']].head(10))"
   ]
  },
  {
   "cell_type": "markdown",
   "id": "e65b8a7b",
   "metadata": {},
   "source": [
    "Manual mapping"
   ]
  },
  {
   "cell_type": "code",
   "execution_count": 42,
   "id": "367ea25f",
   "metadata": {},
   "outputs": [],
   "source": [
    "mapping = {\n",
    "    # Dairy\n",
    "    \"milk\": \"dairy\",\n",
    "    \"butter milk\": \"dairy\",\n",
    "    \"cream\": \"dairy\",\n",
    "    \"cream cheese\": \"dairy\",\n",
    "    \"curd cheese\": \"dairy\",\n",
    "    \"processed cheese\": \"dairy\",\n",
    "    \"soft cheese\": \"dairy\",\n",
    "    \"spread cheese\": \"dairy\",\n",
    "    \"whippedsour cream\": \"dairy\",\n",
    "    \n",
    "    # Beverages\n",
    "    \"beverages\": \"beverages\",\n",
    "    \"cocoa drinks\": \"beverages\",\n",
    "    \"instant coffee\": \"beverages\",\n",
    "    \"liqueur\": \"beverages\",\n",
    "    \"liquor\": \"beverages\",\n",
    "    \"rum\": \"beverages\",\n",
    "    \"whisky\": \"beverages\",\n",
    "    \"sparkling wine\": \"beverages\",\n",
    "    \"redblush wine\": \"beverages\",\n",
    "    \"white wine\": \"beverages\",\n",
    "    \"bottled beer\": \"beverages\",\n",
    "    \"canned beer\": \"beverages\",\n",
    "    \n",
    "    # Fruits & Vegetables\n",
    "    \"fruits\": \"fruits\",\n",
    "    \"grapes\": \"fruits\",\n",
    "    \"frozen fruits\": \"fruits\",\n",
    "    \"vegetables\": \"vegetables\",\n",
    "    \"onions\": \"vegetables\",\n",
    "    \"potato products\": \"vegetables\",\n",
    "    \"packaged fruitvegetables\": \"fruits_vegetables\",\n",
    "    \n",
    "    # Meat & Fish\n",
    "    \"meat\": \"meat\",\n",
    "    \"chicken\": \"meat\",\n",
    "    \"frozen chicken\": \"meat\",\n",
    "    \"pork\": \"meat\",\n",
    "    \"ham\": \"meat\",\n",
    "    \"hamburger meat\": \"meat\",\n",
    "    \"frankfurter\": \"meat\",\n",
    "    \"fish\": \"fish\",\n",
    "    \"frozen fish\": \"fish\",\n",
    "    \"turkey\": \"meat\",\n",
    "    \n",
    "    # Bakery & Sweets\n",
    "    \"bakery\": \"bakery\",\n",
    "    \"long life bakery product\": \"bakery\",\n",
    "    \"white bread\": \"bakery\",\n",
    "    \"roll products\": \"bakery\",\n",
    "    \"rollsbuns\": \"bakery\",\n",
    "    \"waffles\": \"bakery\",\n",
    "    \"cake bar\": \"sweets\",\n",
    "    \"chocolate marshmallow\": \"sweets\",\n",
    "    \"chocolate\": \"sweets\",\n",
    "    \"candy\": \"sweets\",\n",
    "    \"sweets\": \"sweets\",\n",
    "    \"specialty chocolate\": \"sweets\",\n",
    "    \"tidbits\": \"sweets\",\n",
    "    \n",
    "    # Snacks\n",
    "    \"snack products\": \"snacks\",\n",
    "    \"salty snack\": \"snacks\",\n",
    "    \"nut snack\": \"snacks\",\n",
    "    \"popcorn\": \"snacks\",\n",
    "    \n",
    "    # Pantry / Cooking Ingredients\n",
    "    \"sugar\": \"sweeteners\",\n",
    "    \"salt\": \"spices\",\n",
    "    \"spices\": \"spices\",\n",
    "    \"sauces\": \"condiments\",\n",
    "    \"ketchup\": \"condiments\",\n",
    "    \"mayonnaise\": \"condiments\",\n",
    "    \"salad dressing\": \"condiments\",\n",
    "    \"oil\": \"oils\",\n",
    "    \"mustard\": \"oils\",\n",
    "    \"vinegar\": \"condiments\",\n",
    "    \"baking powder\": \"baking_ingredients\",\n",
    "    \"pasta\": \"grains\",\n",
    "    \"rice\": \"grains\",\n",
    "    \"flour\": \"grains\",\n",
    "    \"pudding powder\": \"baking_ingredients\",\n",
    "    \"ready soups\": \"ready_meals\",\n",
    "    \"instant food products\": \"ready_meals\",\n",
    "    \n",
    "    # Household / Cleaning\n",
    "    \"abrasive cleaner\": \"cleaning\",\n",
    "    \"bathroom cleaner\": \"cleaning\",\n",
    "    \"dish cleaner\": \"cleaning\",\n",
    "    \"cleaner\": \"cleaning\",\n",
    "    \"toilet cleaner\": \"cleaning\",\n",
    "    \"detergent\": \"cleaning\",\n",
    "    \"softener\": \"cleaning\",\n",
    "    \"kitchen towels\": \"household\",\n",
    "    \"house keeping products\": \"household\",\n",
    "    \n",
    "    # Personal Care\n",
    "    \"skin care\": \"personal_care\",\n",
    "    \"hair spray\": \"personal_care\",\n",
    "    \"male cosmetics\": \"personal_care\",\n",
    "    \"female sanitary products\": \"personal_care\",\n",
    "    \"make up remover\": \"personal_care\",\n",
    "    \n",
    "    # Pets\n",
    "    \"cat food\": \"pet_care\",\n",
    "    \"dog food\": \"pet_care\",\n",
    "    \"pet care\": \"pet_care\",\n",
    "    \n",
    "    # Misc\n",
    "    \"bags\": \"bags\",\n",
    "    \"candles\": \"decor\",\n",
    "    \"flower seeds\": \"gardening\",\n",
    "    \"flower soilfertilizer\": \"gardening\",\n",
    "    \"pot plants\": \"gardening\",\n",
    "    \"photofilm\": \"electronics\",\n",
    "    \"newspapers\": \"stationery\",\n",
    "    \"shopping bags\": \"bags\",\n",
    "    \"cling filmbags\": \"bags\",\n",
    "    \"finished products\": \"misc\",\n",
    "    \"organic products\": \"organic\",\n",
    "    \"organic sausage\": \"meat\",\n",
    "    \"organic foods\": \"organic\"  # for any other remaining organic\n",
    "}\n",
    "\n"
   ]
  },
  {
   "cell_type": "code",
   "execution_count": 43,
   "id": "15778a4a",
   "metadata": {},
   "outputs": [
    {
     "name": "stdout",
     "output_type": "stream",
     "text": [
      "            cleaned            mapped\n",
      "0    tropical fruit    tropical fruit\n",
      "1        whole milk        whole milk\n",
      "2         pip fruit         pip fruit\n",
      "3  other vegetables  other vegetables\n",
      "4        whole milk        whole milk\n",
      "5         rollsbuns            bakery\n",
      "6  other vegetables  other vegetables\n",
      "7        pot plants         gardening\n",
      "8        whole milk        whole milk\n",
      "9    tropical fruit    tropical fruit\n"
     ]
    }
   ],
   "source": [
    "def map_item(item):\n",
    "    return mapping.get(item, item)  # Default to original \n",
    "df['mapped'] = df['cleaned'].apply(map_item)\n",
    "print(df[['cleaned', 'mapped']].head(10))"
   ]
  },
  {
   "cell_type": "markdown",
   "id": "75b08427",
   "metadata": {},
   "source": [
    "Group items by Member"
   ]
  },
  {
   "cell_type": "code",
   "execution_count": 44,
   "id": "d511a01e",
   "metadata": {},
   "outputs": [
    {
     "data": {
      "text/plain": [
       "Member_number\n",
       "1000    [soda, yogurt, sausage, snacks, whole milk, mi...\n",
       "1001    [soda, sausage, whole milk, bakery, beef, curd...\n",
       "1002    [sweeteners, other vegetables, whole milk, tro...\n",
       "1003    [sausage, cleaning, bakery, dental care, root ...\n",
       "1004    [bags, other vegetables, bakery, whole milk, c...\n",
       "Name: mapped, dtype: object"
      ]
     },
     "execution_count": 44,
     "metadata": {},
     "output_type": "execute_result"
    }
   ],
   "source": [
    "baskets=df.groupby('Member_number')['mapped'].apply(lambda x:list(set(x)))\n",
    "baskets.head()"
   ]
  },
  {
   "cell_type": "code",
   "execution_count": 45,
   "id": "a6a38773",
   "metadata": {},
   "outputs": [
    {
     "name": "stdout",
     "output_type": "stream",
     "text": [
      "99\n"
     ]
    }
   ],
   "source": [
    "all_items = [item for sublist in baskets for item in sublist]\n",
    "\n",
    "# See unique items\n",
    "unique_items = sorted(set(all_items))\n",
    "print(len(unique_items))"
   ]
  },
  {
   "cell_type": "code",
   "execution_count": 46,
   "id": "ec77c814",
   "metadata": {},
   "outputs": [],
   "source": [
    "# Drop rare item categories before encoding\n",
    "value_counts = df['mapped'].value_counts()\n",
    "common_items = value_counts[value_counts >= 10].index \n",
    "filtered_baskets = baskets.apply(lambda items: [x for x in items if x in common_items])\n",
    "\n"
   ]
  },
  {
   "cell_type": "code",
   "execution_count": 47,
   "id": "0874968d",
   "metadata": {},
   "outputs": [],
   "source": [
    "from mlxtend.preprocessing import TransactionEncoder"
   ]
  },
  {
   "cell_type": "code",
   "execution_count": 48,
   "id": "60177c5a",
   "metadata": {},
   "outputs": [],
   "source": [
    "transaction = filtered_baskets.tolist()"
   ]
  },
  {
   "cell_type": "code",
   "execution_count": 49,
   "id": "11c343c3",
   "metadata": {},
   "outputs": [],
   "source": [
    "t = TransactionEncoder()"
   ]
  },
  {
   "cell_type": "code",
   "execution_count": 50,
   "id": "1e01baf8",
   "metadata": {},
   "outputs": [],
   "source": [
    "to_array = t.fit(transaction).transform(transaction)\n",
    "encoded = pd.DataFrame(to_array, columns = t.columns_)"
   ]
  },
  {
   "cell_type": "code",
   "execution_count": 51,
   "id": "08e7e68c",
   "metadata": {},
   "outputs": [
    {
     "name": "stdout",
     "output_type": "stream",
     "text": [
      "   artif sweetener   bags  bakery  baking_ingredients   beef  berries  \\\n",
      "0            False  False   False               False  False    False   \n",
      "1            False  False    True               False   True    False   \n",
      "2            False  False   False               False  False    False   \n",
      "3            False  False    True               False  False    False   \n",
      "4            False   True    True               False  False    False   \n",
      "\n",
      "   beverages  bottled water  brandy  brown bread  ...  sweeteners  sweets  \\\n",
      "0       True          False   False        False  ...       False   False   \n",
      "1      False          False   False        False  ...       False   False   \n",
      "2      False          False   False        False  ...        True    True   \n",
      "3      False          False   False        False  ...       False   False   \n",
      "4       True          False   False        False  ...       False    True   \n",
      "\n",
      "   syrup    tea  tropical fruit  uhtmilk  vegetables  whole milk  yogurt  \\\n",
      "0  False  False           False    False       False        True    True   \n",
      "1  False  False           False    False       False        True   False   \n",
      "2  False  False            True    False       False        True   False   \n",
      "3  False  False           False    False       False       False   False   \n",
      "4  False  False            True    False       False        True   False   \n",
      "\n",
      "   zwieback  \n",
      "0     False  \n",
      "1     False  \n",
      "2     False  \n",
      "3     False  \n",
      "4     False  \n",
      "\n",
      "[5 rows x 94 columns]\n"
     ]
    }
   ],
   "source": [
    "print(encoded.head())"
   ]
  },
  {
   "cell_type": "code",
   "execution_count": 52,
   "id": "e2f464f7",
   "metadata": {},
   "outputs": [],
   "source": [
    "df1 = pd.DataFrame(to_array.astype(int),columns = t.columns_)"
   ]
  },
  {
   "cell_type": "code",
   "execution_count": 53,
   "id": "a76ec504",
   "metadata": {},
   "outputs": [
    {
     "name": "stdout",
     "output_type": "stream",
     "text": [
      "   artif sweetener  bags  bakery  baking_ingredients  beef  berries  \\\n",
      "0                0     0       0                   0     0        0   \n",
      "1                0     0       1                   0     1        0   \n",
      "2                0     0       0                   0     0        0   \n",
      "3                0     0       1                   0     0        0   \n",
      "4                0     1       1                   0     0        0   \n",
      "\n",
      "   beverages  bottled water  brandy  brown bread  ...  sweeteners  sweets  \\\n",
      "0          1              0       0            0  ...           0       0   \n",
      "1          0              0       0            0  ...           0       0   \n",
      "2          0              0       0            0  ...           1       1   \n",
      "3          0              0       0            0  ...           0       0   \n",
      "4          1              0       0            0  ...           0       1   \n",
      "\n",
      "   syrup  tea  tropical fruit  uhtmilk  vegetables  whole milk  yogurt  \\\n",
      "0      0    0               0        0           0           1       1   \n",
      "1      0    0               0        0           0           1       0   \n",
      "2      0    0               1        0           0           1       0   \n",
      "3      0    0               0        0           0           0       0   \n",
      "4      0    0               1        0           0           1       0   \n",
      "\n",
      "   zwieback  \n",
      "0         0  \n",
      "1         0  \n",
      "2         0  \n",
      "3         0  \n",
      "4         0  \n",
      "\n",
      "[5 rows x 94 columns]\n"
     ]
    }
   ],
   "source": [
    "print(df1.head())"
   ]
  },
  {
   "cell_type": "markdown",
   "id": "c4f43d11",
   "metadata": {},
   "source": [
    "Apriori"
   ]
  },
  {
   "cell_type": "code",
   "execution_count": 54,
   "id": "df3f0b2c",
   "metadata": {},
   "outputs": [],
   "source": [
    "from mlxtend.frequent_patterns import fpgrowth"
   ]
  },
  {
   "cell_type": "code",
   "execution_count": 55,
   "id": "f4e69203",
   "metadata": {},
   "outputs": [
    {
     "name": "stdout",
     "output_type": "stream",
     "text": [
      "['artif sweetener', 'bags', 'bakery', 'baking_ingredients', 'beef', 'berries', 'beverages', 'bottled water', 'brandy', 'brown bread', 'butter', 'canned fish', 'canned fruit', 'canned vegetables', 'cereals', 'chewing gum', 'citrus fruit', 'cleaning', 'coffee', 'condensed milk', 'condiments', 'cooking chocolate', 'cookware', 'curd', 'dairy', 'decor', 'dental care', 'dessert', 'dishes', 'domestic eggs', 'electronics', 'fish', 'frozen dessert', 'frozen meals', 'frozen potato products', 'frozen vegetables', 'fruits', 'fruits_vegetables', 'fruitvegetable juice', 'gardening', 'grains', 'hard cheese', 'herbs', 'honey', 'household', 'hygiene articles', 'ice cream', 'jam', 'light bulbs', 'liquor appetizer', 'liver loaf', 'margarine', 'meat', 'meat spreads', 'misc', 'misc beverages', 'napkins', 'nutsprunes', 'oils', 'organic', 'other vegetables', 'pastry', 'personal_care', 'pet_care', 'pickled vegetables', 'pip fruit', 'prosecco', 'ready_meals', 'root vegetables', 'sausage', 'seasonal products', 'semifinished bread', 'sliced cheese', 'snacks', 'soap', 'soda', 'soups', 'specialty bar', 'specialty cheese', 'specialty fat', 'specialty vegetables', 'spices', 'stationery', 'sweet spreads', 'sweeteners', 'sweets', 'syrup', 'tea', 'tropical fruit', 'uhtmilk', 'vegetables', 'whole milk', 'yogurt', 'zwieback']\n"
     ]
    }
   ],
   "source": [
    "print(encoded.columns.tolist())\n"
   ]
  },
  {
   "cell_type": "code",
   "execution_count": 56,
   "id": "1d60e7e2",
   "metadata": {},
   "outputs": [
    {
     "name": "stdout",
     "output_type": "stream",
     "text": [
      "(3898, 94)\n"
     ]
    }
   ],
   "source": [
    "print(encoded.shape)"
   ]
  },
  {
   "cell_type": "code",
   "execution_count": 57,
   "id": "fb6aa4e5",
   "metadata": {},
   "outputs": [],
   "source": [
    "freq = fpgrowth(subset_encoded, min_support=0.1, use_colnames=True)\n"
   ]
  },
  {
   "cell_type": "code",
   "execution_count": 58,
   "id": "9a8f3348",
   "metadata": {},
   "outputs": [
    {
     "name": "stdout",
     "output_type": "stream",
     "text": [
      "['artif sweetener', 'bags', 'bakery', 'baking_ingredients', 'beef', 'berries', 'beverages', 'bottled water', 'brandy', 'brown bread', 'butter', 'canned fish', 'canned fruit', 'canned vegetables', 'cereals', 'chewing gum', 'citrus fruit', 'cleaning', 'coffee', 'condensed milk', 'condiments', 'cooking chocolate', 'cookware', 'curd', 'dairy', 'decor', 'dental care', 'dessert', 'dishes', 'domestic eggs', 'electronics', 'fish', 'frozen dessert', 'frozen meals', 'frozen potato products', 'frozen vegetables', 'fruits', 'fruits_vegetables', 'fruitvegetable juice', 'gardening', 'grains', 'hard cheese', 'herbs', 'honey', 'household', 'hygiene articles', 'ice cream', 'jam', 'light bulbs', 'liquor appetizer', 'liver loaf', 'margarine', 'meat', 'meat spreads', 'misc', 'misc beverages', 'napkins', 'nutsprunes', 'oils', 'organic', 'other vegetables', 'pastry', 'personal_care', 'pet_care', 'pickled vegetables', 'pip fruit', 'prosecco', 'ready_meals', 'root vegetables', 'sausage', 'seasonal products', 'semifinished bread', 'sliced cheese', 'snacks', 'soap', 'soda', 'soups', 'specialty bar', 'specialty cheese', 'specialty fat', 'specialty vegetables', 'spices', 'stationery', 'sweet spreads', 'sweeteners', 'sweets', 'syrup', 'tea', 'tropical fruit', 'uhtmilk', 'vegetables', 'whole milk', 'yogurt', 'zwieback']\n"
     ]
    }
   ],
   "source": [
    "print(encoded.columns.tolist())\n"
   ]
  },
  {
   "cell_type": "code",
   "execution_count": 59,
   "id": "7137f0e1",
   "metadata": {},
   "outputs": [
    {
     "name": "stdout",
     "output_type": "stream",
     "text": [
      "['artif sweetener', 'bags', 'bakery', 'baking_ingredients', 'beef', 'berries', 'beverages', 'bottled water', 'brandy', 'brown bread', 'butter', 'canned fish', 'canned fruit', 'canned vegetables', 'cereals', 'chewing gum', 'citrus fruit', 'cleaning', 'coffee', 'condensed milk', 'condiments', 'cooking chocolate', 'cookware', 'curd', 'dairy', 'decor', 'dental care', 'dessert', 'dishes', 'domestic eggs', 'electronics', 'fish', 'frozen dessert', 'frozen meals', 'frozen potato products', 'frozen vegetables', 'fruits', 'fruits_vegetables', 'fruitvegetable juice', 'gardening', 'grains', 'hard cheese', 'herbs', 'honey', 'household', 'hygiene articles', 'ice cream', 'jam', 'light bulbs', 'liquor appetizer', 'liver loaf', 'margarine', 'meat', 'meat spreads', 'misc', 'misc beverages', 'napkins', 'nutsprunes', 'oils', 'organic', 'other vegetables', 'pastry', 'personal_care', 'pet_care', 'pickled vegetables', 'pip fruit', 'prosecco', 'ready_meals', 'root vegetables', 'sausage', 'seasonal products', 'semifinished bread', 'sliced cheese', 'snacks', 'soap', 'soda', 'soups', 'specialty bar', 'specialty cheese', 'specialty fat', 'specialty vegetables', 'spices', 'stationery', 'sweet spreads', 'sweeteners', 'sweets', 'syrup', 'tea', 'tropical fruit', 'uhtmilk', 'vegetables', 'whole milk', 'yogurt', 'zwieback']\n"
     ]
    }
   ],
   "source": [
    "print(encoded.columns.tolist())\n"
   ]
  },
  {
   "cell_type": "code",
   "execution_count": 60,
   "id": "93f3038f",
   "metadata": {},
   "outputs": [],
   "source": [
    "from mlxtend.frequent_patterns import association_rules\n"
   ]
  },
  {
   "cell_type": "code",
   "execution_count": 61,
   "id": "dbf94204",
   "metadata": {},
   "outputs": [],
   "source": [
    "rules = association_rules(freq,metric='lift',min_threshold=1)\n",
    "rules = rules[['antecedents','consequents','support','confidence','lift']]"
   ]
  },
  {
   "cell_type": "code",
   "execution_count": 62,
   "id": "be67b6c3",
   "metadata": {},
   "outputs": [
    {
     "name": "stdout",
     "output_type": "stream",
     "text": [
      "                         antecedents                      consequents  \\\n",
      "0                             (soda)                         (sweets)   \n",
      "1                           (sweets)                           (soda)   \n",
      "11                    (soda, bakery)                         (sweets)   \n",
      "17              (bakery, whole milk)               (other vegetables)   \n",
      "23                          (pastry)                         (sweets)   \n",
      "..                               ...                              ...   \n",
      "946                         (coffee)                   (citrus fruit)   \n",
      "948        (coffee, root vegetables)                   (citrus fruit)   \n",
      "949           (coffee, citrus fruit)                (root vegetables)   \n",
      "950  (root vegetables, citrus fruit)                         (coffee)   \n",
      "951                         (coffee)  (root vegetables, citrus fruit)   \n",
      "\n",
      "     support  confidence      lift  \n",
      "0       0.25    0.625000  1.562500  \n",
      "1       0.25    0.625000  1.562500  \n",
      "11      0.10    0.666667  1.666667  \n",
      "17      0.10    0.666667  1.481481  \n",
      "23      0.15    1.000000  2.500000  \n",
      "..       ...         ...       ...  \n",
      "946     0.10    0.666667  1.904762  \n",
      "948     0.10    1.000000  2.857143  \n",
      "949     0.10    1.000000  4.000000  \n",
      "950     0.10    1.000000  6.666667  \n",
      "951     0.10    0.666667  6.666667  \n",
      "\n",
      "[538 rows x 5 columns]\n"
     ]
    }
   ],
   "source": [
    "filtering = rules[(rules['confidence']>0.6) & (rules['lift']>1.2)]\n",
    "print(filtering)"
   ]
  }
 ],
 "metadata": {
  "kernelspec": {
   "display_name": "Python 3",
   "language": "python",
   "name": "python3"
  },
  "language_info": {
   "codemirror_mode": {
    "name": "ipython",
    "version": 3
   },
   "file_extension": ".py",
   "mimetype": "text/x-python",
   "name": "python",
   "nbconvert_exporter": "python",
   "pygments_lexer": "ipython3",
   "version": "3.12.8"
  }
 },
 "nbformat": 4,
 "nbformat_minor": 5
}
