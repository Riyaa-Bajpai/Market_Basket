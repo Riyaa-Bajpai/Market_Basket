{
 "cells": [
  {
   "cell_type": "code",
   "execution_count": 1,
   "id": "1c5550dc",
   "metadata": {},
   "outputs": [],
   "source": [
    "import numpy as np\n",
    "import pandas as pd"
   ]
  },
  {
   "cell_type": "markdown",
   "id": "672b4575",
   "metadata": {},
   "source": [
    "DataSet Loading And Inspection"
   ]
  },
  {
   "cell_type": "code",
   "execution_count": 2,
   "id": "48c9bf75",
   "metadata": {},
   "outputs": [],
   "source": [
    "df=pd.read_csv('Groceries_dataset.csv')"
   ]
  },
  {
   "cell_type": "code",
   "execution_count": 3,
   "id": "5404a00f",
   "metadata": {},
   "outputs": [
    {
     "name": "stdout",
     "output_type": "stream",
     "text": [
      "(38765, 3)\n",
      "<class 'pandas.core.frame.DataFrame'>\n",
      "RangeIndex: 38765 entries, 0 to 38764\n",
      "Data columns (total 3 columns):\n",
      " #   Column           Non-Null Count  Dtype \n",
      "---  ------           --------------  ----- \n",
      " 0   Member_number    38765 non-null  int64 \n",
      " 1   Date             38765 non-null  object\n",
      " 2   itemDescription  38765 non-null  object\n",
      "dtypes: int64(1), object(2)\n",
      "memory usage: 908.7+ KB\n",
      "None\n"
     ]
    }
   ],
   "source": [
    "print(df.shape)\n",
    "print(df.info())"
   ]
  },
  {
   "cell_type": "markdown",
   "id": "fb172a5e",
   "metadata": {},
   "source": [
    "Normalise item names"
   ]
  },
  {
   "cell_type": "code",
   "execution_count": 4,
   "id": "6d40a722",
   "metadata": {},
   "outputs": [],
   "source": [
    "import re"
   ]
  },
  {
   "cell_type": "code",
   "execution_count": 5,
   "id": "7d9344a4",
   "metadata": {},
   "outputs": [],
   "source": [
    "def clean_item(item):\n",
    "    if pd.isna(item):\n",
    "        return \"\"\n",
    "    item = str(item).lower()                 # lowercase\n",
    "    item = re.sub(r'[^a-z\\s]', '', item)     # keep only letters & spaces\n",
    "    item = re.sub(r'\\s+', ' ', item).strip() # collapse multiple spaces\n",
    "    return item\n"
   ]
  },
  {
   "cell_type": "code",
   "execution_count": 6,
   "id": "11c0bbe5",
   "metadata": {},
   "outputs": [
    {
     "name": "stdout",
     "output_type": "stream",
     "text": [
      "  itemDescription         cleaned\n",
      "0  tropical fruit  tropical fruit\n",
      "1      whole milk      whole milk\n"
     ]
    }
   ],
   "source": [
    "df['cleaned'] = df['itemDescription'].apply(clean_item)\n",
    "print(df[['itemDescription', 'cleaned']].head(2))"
   ]
  },
  {
   "cell_type": "markdown",
   "id": "e65b8a7b",
   "metadata": {},
   "source": [
    "Manual mapping"
   ]
  },
  {
   "cell_type": "code",
   "execution_count": 7,
   "id": "367ea25f",
   "metadata": {},
   "outputs": [],
   "source": [
    "mapping = {\n",
    "    # Dairy\n",
    "    \"milk\": \"dairy\",\n",
    "    \"butter milk\": \"dairy\",\n",
    "    \"cream\": \"dairy\",\n",
    "    \"cream cheese\": \"dairy\",\n",
    "    \"curd cheese\": \"dairy\",\n",
    "    \"processed cheese\": \"dairy\",\n",
    "    \"soft cheese\": \"dairy\",\n",
    "    \"spread cheese\": \"dairy\",\n",
    "    \"whippedsour cream\": \"dairy\",\n",
    "    \n",
    "    # Beverages\n",
    "    \"beverages\": \"beverages\",\n",
    "    \"cocoa drinks\": \"beverages\",\n",
    "    \"instant coffee\": \"beverages\",\n",
    "    \"liqueur\": \"beverages\",\n",
    "    \"liquor\": \"beverages\",\n",
    "    \"rum\": \"beverages\",\n",
    "    \"whisky\": \"beverages\",\n",
    "    \"sparkling wine\": \"beverages\",\n",
    "    \"redblush wine\": \"beverages\",\n",
    "    \"white wine\": \"beverages\",\n",
    "    \"bottled beer\": \"beverages\",\n",
    "    \"canned beer\": \"beverages\",\n",
    "    \n",
    "    # Fruits & Vegetables\n",
    "    \"fruits\": \"fruits\",\n",
    "    \"grapes\": \"fruits\",\n",
    "    \"frozen fruits\": \"fruits\",\n",
    "    \"vegetables\": \"vegetables\",\n",
    "    \"other vegetables\": \"vegetables\",\n",
    "    \"frozen vegetables\": \"vegetables\",\n",
    "    \"onions\": \"vegetables\",\n",
    "    \"potato products\": \"vegetables\",\n",
    "    \"packaged fruitvegetables\": \"fruits_vegetables\",\n",
    "    \n",
    "    # Meat & Fish\n",
    "    \"meat\": \"meat\",\n",
    "    \"chicken\": \"meat\",\n",
    "    \"frozen chicken\": \"meat\",\n",
    "    \"pork\": \"meat\",\n",
    "    \"ham\": \"meat\",\n",
    "    \"hamburger meat\": \"meat\",\n",
    "    \"frankfurter\": \"meat\",\n",
    "    \"fish\": \"fish\",\n",
    "    \"frozen fish\": \"fish\",\n",
    "    \"turkey\": \"meat\",\n",
    "    \n",
    "    # Bakery & Sweets\n",
    "    \"bakery\": \"bakery\",\n",
    "    \"long life bakery product\": \"bakery\",\n",
    "    \"white bread\": \"bakery\",\n",
    "    \"roll products\": \"bakery\",\n",
    "    \"rollsbuns\": \"bakery\",\n",
    "    \"waffles\": \"bakery\",\n",
    "    \"cake bar\": \"sweets\",\n",
    "    \"chocolate marshmallow\": \"sweets\",\n",
    "    \"chocolate\": \"sweets\",\n",
    "    \"candy\": \"sweets\",\n",
    "    \"sweets\": \"sweets\",\n",
    "    \"specialty chocolate\": \"sweets\",\n",
    "    \"tidbits\": \"sweets\",\n",
    "    \n",
    "    # Snacks\n",
    "    \"snack products\": \"snacks\",\n",
    "    \"salty snack\": \"snacks\",\n",
    "    \"nut snack\": \"snacks\",\n",
    "    \"popcorn\": \"snacks\",\n",
    "    \n",
    "    # Pantry / Cooking Ingredients\n",
    "    \"sugar\": \"sweeteners\",\n",
    "    \"salt\": \"spices\",\n",
    "    \"spices\": \"spices\",\n",
    "    \"sauces\": \"condiments\",\n",
    "    \"ketchup\": \"condiments\",\n",
    "    \"mayonnaise\": \"condiments\",\n",
    "    \"salad dressing\": \"condiments\",\n",
    "    \"oil\": \"oils\",\n",
    "    \"mustard\": \"oils\",\n",
    "    \"vinegar\": \"condiments\",\n",
    "    \"baking powder\": \"baking_ingredients\",\n",
    "    \"pasta\": \"grains\",\n",
    "    \"rice\": \"grains\",\n",
    "    \"flour\": \"grains\",\n",
    "    \"pudding powder\": \"baking_ingredients\",\n",
    "    \"ready soups\": \"ready_meals\",\n",
    "    \"instant food products\": \"ready_meals\",\n",
    "    \n",
    "    # Household / Cleaning\n",
    "    \"abrasive cleaner\": \"cleaning\",\n",
    "    \"bathroom cleaner\": \"cleaning\",\n",
    "    \"dish cleaner\": \"cleaning\",\n",
    "    \"cleaner\": \"cleaning\",\n",
    "    \"toilet cleaner\": \"cleaning\",\n",
    "    \"detergent\": \"cleaning\",\n",
    "    \"softener\": \"cleaning\",\n",
    "    \"kitchen towels\": \"household\",\n",
    "    \"house keeping products\": \"household\",\n",
    "    \n",
    "    # Personal Care\n",
    "    \"skin care\": \"personal_care\",\n",
    "    \"hair spray\": \"personal_care\",\n",
    "    \"male cosmetics\": \"personal_care\",\n",
    "    \"female sanitary products\": \"personal_care\",\n",
    "    \"make up remover\": \"personal_care\",\n",
    "    \n",
    "    # Pets\n",
    "    \"cat food\": \"pet_care\",\n",
    "    \"dog food\": \"pet_care\",\n",
    "    \"pet care\": \"pet_care\",\n",
    "    \n",
    "    # Misc\n",
    "    \"bags\": \"bags\",\n",
    "    \"candles\": \"decor\",\n",
    "    \"flower seeds\": \"gardening\",\n",
    "    \"flower soilfertilizer\": \"gardening\",\n",
    "    \"pot plants\": \"gardening\",\n",
    "    \"photofilm\": \"electronics\",\n",
    "    \"newspapers\": \"stationery\",\n",
    "    \"shopping bags\": \"bags\",\n",
    "    \"cling filmbags\": \"bags\",\n",
    "    \"finished products\": \"misc\",\n",
    "    \"organic products\": \"organic\",\n",
    "    \"organic sausage\": \"meat\",\n",
    "    \"organic foods\": \"organic\"  # for any other remaining organic\n",
    "}\n",
    "\n"
   ]
  },
  {
   "cell_type": "code",
   "execution_count": 8,
   "id": "15778a4a",
   "metadata": {},
   "outputs": [
    {
     "name": "stdout",
     "output_type": "stream",
     "text": [
      "          cleaned          mapped\n",
      "0  tropical fruit  tropical fruit\n",
      "1      whole milk      whole milk\n"
     ]
    }
   ],
   "source": [
    "def map_item(item):\n",
    "    return mapping.get(item, item)  # Default to original \n",
    "df['mapped'] = df['cleaned'].apply(map_item)\n",
    "print(df[['cleaned', 'mapped']].head(2))"
   ]
  },
  {
   "cell_type": "markdown",
   "id": "75b08427",
   "metadata": {},
   "source": [
    "Group items by Member"
   ]
  },
  {
   "cell_type": "code",
   "execution_count": 9,
   "id": "d511a01e",
   "metadata": {},
   "outputs": [
    {
     "data": {
      "text/plain": [
       "Member_number\n",
       "1000    [whole milk, pastry, snacks, pickled vegetable...\n",
       "1001    [beef, dairy, whole milk, curd, soda, meat, ba...\n",
       "Name: mapped, dtype: object"
      ]
     },
     "execution_count": 9,
     "metadata": {},
     "output_type": "execute_result"
    }
   ],
   "source": [
    "baskets=df.groupby('Member_number')['mapped'].apply(lambda x:list(set(x)))\n",
    "baskets.head(2)"
   ]
  },
  {
   "cell_type": "code",
   "execution_count": 10,
   "id": "a6a38773",
   "metadata": {},
   "outputs": [
    {
     "name": "stdout",
     "output_type": "stream",
     "text": [
      "97\n"
     ]
    }
   ],
   "source": [
    "all_items = [item for sublist in baskets for item in sublist]\n",
    "\n",
    "# See unique items\n",
    "unique_items = sorted(set(all_items))\n",
    "print(len(unique_items))"
   ]
  },
  {
   "cell_type": "code",
   "execution_count": 11,
   "id": "ec77c814",
   "metadata": {},
   "outputs": [],
   "source": [
    "# Drop rare item categories before encoding\n",
    "value_counts = df['mapped'].value_counts()\n",
    "common_items = value_counts[value_counts >= 10].index \n",
    "filtered_baskets = baskets.apply(lambda items: [x for x in items if x in common_items])\n",
    "\n"
   ]
  },
  {
   "cell_type": "markdown",
   "id": "b25514af",
   "metadata": {},
   "source": [
    "Transforming"
   ]
  },
  {
   "cell_type": "code",
   "execution_count": 12,
   "id": "0874968d",
   "metadata": {},
   "outputs": [],
   "source": [
    "from mlxtend.preprocessing import TransactionEncoder"
   ]
  },
  {
   "cell_type": "code",
   "execution_count": 13,
   "id": "60177c5a",
   "metadata": {},
   "outputs": [],
   "source": [
    "transaction = filtered_baskets.tolist()"
   ]
  },
  {
   "cell_type": "code",
   "execution_count": 14,
   "id": "11c343c3",
   "metadata": {},
   "outputs": [],
   "source": [
    "t = TransactionEncoder()"
   ]
  },
  {
   "cell_type": "code",
   "execution_count": 15,
   "id": "1e01baf8",
   "metadata": {},
   "outputs": [],
   "source": [
    "to_array = t.fit(transaction).transform(transaction)\n",
    "encoded = pd.DataFrame(to_array, columns = t.columns_)"
   ]
  },
  {
   "cell_type": "code",
   "execution_count": 16,
   "id": "08e7e68c",
   "metadata": {},
   "outputs": [
    {
     "name": "stdout",
     "output_type": "stream",
     "text": [
      "   artif sweetener   bags  bakery  baking_ingredients   beef  berries  \\\n",
      "0            False  False   False               False  False    False   \n",
      "1            False  False    True               False   True    False   \n",
      "\n",
      "   beverages  bottled water  brandy  brown bread  ...  sweeteners  sweets  \\\n",
      "0       True          False   False        False  ...       False   False   \n",
      "1      False          False   False        False  ...       False   False   \n",
      "\n",
      "   syrup    tea  tropical fruit  uhtmilk  vegetables  whole milk  yogurt  \\\n",
      "0  False  False           False    False       False        True    True   \n",
      "1  False  False           False    False       False        True   False   \n",
      "\n",
      "   zwieback  \n",
      "0     False  \n",
      "1     False  \n",
      "\n",
      "[2 rows x 92 columns]\n"
     ]
    }
   ],
   "source": [
    "print(encoded.head(2))"
   ]
  },
  {
   "cell_type": "code",
   "execution_count": 17,
   "id": "e2f464f7",
   "metadata": {},
   "outputs": [],
   "source": [
    "df1 = pd.DataFrame(to_array.astype(int),columns = t.columns_)"
   ]
  },
  {
   "cell_type": "code",
   "execution_count": 18,
   "id": "a76ec504",
   "metadata": {},
   "outputs": [
    {
     "name": "stdout",
     "output_type": "stream",
     "text": [
      "   artif sweetener  bags  bakery  baking_ingredients  beef  berries  \\\n",
      "0                0     0       0                   0     0        0   \n",
      "1                0     0       1                   0     1        0   \n",
      "\n",
      "   beverages  bottled water  brandy  brown bread  ...  sweeteners  sweets  \\\n",
      "0          1              0       0            0  ...           0       0   \n",
      "1          0              0       0            0  ...           0       0   \n",
      "\n",
      "   syrup  tea  tropical fruit  uhtmilk  vegetables  whole milk  yogurt  \\\n",
      "0      0    0               0        0           0           1       1   \n",
      "1      0    0               0        0           0           1       0   \n",
      "\n",
      "   zwieback  \n",
      "0         0  \n",
      "1         0  \n",
      "\n",
      "[2 rows x 92 columns]\n"
     ]
    }
   ],
   "source": [
    "print(df1.head(2))"
   ]
  },
  {
   "cell_type": "markdown",
   "id": "c4f43d11",
   "metadata": {},
   "source": [
    "Fpgrowth"
   ]
  },
  {
   "cell_type": "code",
   "execution_count": 19,
   "id": "df3f0b2c",
   "metadata": {},
   "outputs": [],
   "source": [
    "from mlxtend.frequent_patterns import fpgrowth"
   ]
  },
  {
   "cell_type": "code",
   "execution_count": 20,
   "id": "f4e69203",
   "metadata": {},
   "outputs": [
    {
     "name": "stdout",
     "output_type": "stream",
     "text": [
      "['artif sweetener', 'bags', 'bakery', 'baking_ingredients', 'beef', 'berries', 'beverages', 'bottled water', 'brandy', 'brown bread', 'butter', 'canned fish', 'canned fruit', 'canned vegetables', 'cereals', 'chewing gum', 'citrus fruit', 'cleaning', 'coffee', 'condensed milk', 'condiments', 'cooking chocolate', 'cookware', 'curd', 'dairy', 'decor', 'dental care', 'dessert', 'dishes', 'domestic eggs', 'electronics', 'fish', 'frozen dessert', 'frozen meals', 'frozen potato products', 'fruits', 'fruits_vegetables', 'fruitvegetable juice', 'gardening', 'grains', 'hard cheese', 'herbs', 'honey', 'household', 'hygiene articles', 'ice cream', 'jam', 'light bulbs', 'liquor appetizer', 'liver loaf', 'margarine', 'meat', 'meat spreads', 'misc', 'misc beverages', 'napkins', 'nutsprunes', 'oils', 'organic', 'pastry', 'personal_care', 'pet_care', 'pickled vegetables', 'pip fruit', 'prosecco', 'ready_meals', 'root vegetables', 'sausage', 'seasonal products', 'semifinished bread', 'sliced cheese', 'snacks', 'soap', 'soda', 'soups', 'specialty bar', 'specialty cheese', 'specialty fat', 'specialty vegetables', 'spices', 'stationery', 'sweet spreads', 'sweeteners', 'sweets', 'syrup', 'tea', 'tropical fruit', 'uhtmilk', 'vegetables', 'whole milk', 'yogurt', 'zwieback']\n"
     ]
    }
   ],
   "source": [
    "print(encoded.columns.tolist())\n"
   ]
  },
  {
   "cell_type": "code",
   "execution_count": 21,
   "id": "1d60e7e2",
   "metadata": {},
   "outputs": [
    {
     "name": "stdout",
     "output_type": "stream",
     "text": [
      "(3898, 92)\n"
     ]
    }
   ],
   "source": [
    "print(encoded.shape)"
   ]
  },
  {
   "cell_type": "code",
   "execution_count": 22,
   "id": "fb6aa4e5",
   "metadata": {},
   "outputs": [],
   "source": [
    "freq = fpgrowth(encoded, min_support=0.01, use_colnames=True)"
   ]
  },
  {
   "cell_type": "code",
   "execution_count": 23,
   "id": "9a8f3348",
   "metadata": {},
   "outputs": [
    {
     "name": "stdout",
     "output_type": "stream",
     "text": [
      "['artif sweetener', 'bags', 'bakery', 'baking_ingredients', 'beef', 'berries', 'beverages', 'bottled water', 'brandy', 'brown bread', 'butter', 'canned fish', 'canned fruit', 'canned vegetables', 'cereals', 'chewing gum', 'citrus fruit', 'cleaning', 'coffee', 'condensed milk', 'condiments', 'cooking chocolate', 'cookware', 'curd', 'dairy', 'decor', 'dental care', 'dessert', 'dishes', 'domestic eggs', 'electronics', 'fish', 'frozen dessert', 'frozen meals', 'frozen potato products', 'fruits', 'fruits_vegetables', 'fruitvegetable juice', 'gardening', 'grains', 'hard cheese', 'herbs', 'honey', 'household', 'hygiene articles', 'ice cream', 'jam', 'light bulbs', 'liquor appetizer', 'liver loaf', 'margarine', 'meat', 'meat spreads', 'misc', 'misc beverages', 'napkins', 'nutsprunes', 'oils', 'organic', 'pastry', 'personal_care', 'pet_care', 'pickled vegetables', 'pip fruit', 'prosecco', 'ready_meals', 'root vegetables', 'sausage', 'seasonal products', 'semifinished bread', 'sliced cheese', 'snacks', 'soap', 'soda', 'soups', 'specialty bar', 'specialty cheese', 'specialty fat', 'specialty vegetables', 'spices', 'stationery', 'sweet spreads', 'sweeteners', 'sweets', 'syrup', 'tea', 'tropical fruit', 'uhtmilk', 'vegetables', 'whole milk', 'yogurt', 'zwieback']\n"
     ]
    }
   ],
   "source": [
    "print(encoded.columns.tolist())"
   ]
  },
  {
   "cell_type": "markdown",
   "id": "2284c4e1",
   "metadata": {},
   "source": [
    "Association rules"
   ]
  },
  {
   "cell_type": "code",
   "execution_count": 24,
   "id": "93f3038f",
   "metadata": {},
   "outputs": [],
   "source": [
    "from mlxtend.frequent_patterns import association_rules"
   ]
  },
  {
   "cell_type": "code",
   "execution_count": 25,
   "id": "dbf94204",
   "metadata": {},
   "outputs": [],
   "source": [
    "rules = association_rules(freq,metric='lift',min_threshold=1)\n",
    "rules = rules[['antecedents','consequents','support','confidence','lift']]"
   ]
  },
  {
   "cell_type": "code",
   "execution_count": 26,
   "id": "be67b6c3",
   "metadata": {},
   "outputs": [],
   "source": [
    "filtering = rules[(rules['confidence']>0.6) & (rules['lift']>1.2)]"
   ]
  },
  {
   "cell_type": "code",
   "execution_count": 27,
   "id": "6f3fa439",
   "metadata": {},
   "outputs": [
    {
     "data": {
      "text/html": [
       "<div>\n",
       "<style scoped>\n",
       "    .dataframe tbody tr th:only-of-type {\n",
       "        vertical-align: middle;\n",
       "    }\n",
       "\n",
       "    .dataframe tbody tr th {\n",
       "        vertical-align: top;\n",
       "    }\n",
       "\n",
       "    .dataframe thead th {\n",
       "        text-align: right;\n",
       "    }\n",
       "</style>\n",
       "<table border=\"1\" class=\"dataframe\">\n",
       "  <thead>\n",
       "    <tr style=\"text-align: right;\">\n",
       "      <th></th>\n",
       "      <th>antecedents</th>\n",
       "      <th>consequents</th>\n",
       "      <th>support</th>\n",
       "      <th>confidence</th>\n",
       "      <th>lift</th>\n",
       "    </tr>\n",
       "  </thead>\n",
       "  <tbody>\n",
       "    <tr>\n",
       "      <th>44842</th>\n",
       "      <td>(bags, dairy, meat, yogurt)</td>\n",
       "      <td>(bakery, whole milk)</td>\n",
       "      <td>0.010005</td>\n",
       "      <td>0.661017</td>\n",
       "      <td>2.732390</td>\n",
       "    </tr>\n",
       "    <tr>\n",
       "      <th>44836</th>\n",
       "      <td>(bags, dairy, yogurt, whole milk)</td>\n",
       "      <td>(meat, bakery)</td>\n",
       "      <td>0.010005</td>\n",
       "      <td>0.619048</td>\n",
       "      <td>2.548097</td>\n",
       "    </tr>\n",
       "  </tbody>\n",
       "</table>\n",
       "</div>"
      ],
      "text/plain": [
       "                             antecedents           consequents   support  \\\n",
       "44842        (bags, dairy, meat, yogurt)  (bakery, whole milk)  0.010005   \n",
       "44836  (bags, dairy, yogurt, whole milk)        (meat, bakery)  0.010005   \n",
       "\n",
       "       confidence      lift  \n",
       "44842    0.661017  2.732390  \n",
       "44836    0.619048  2.548097  "
      ]
     },
     "execution_count": 27,
     "metadata": {},
     "output_type": "execute_result"
    }
   ],
   "source": [
    "filtering.sort_values(by='lift', ascending=False).head(2)"
   ]
  },
  {
   "cell_type": "markdown",
   "id": "f12cbde8",
   "metadata": {},
   "source": [
    "Recommendation"
   ]
  },
  {
   "cell_type": "code",
   "execution_count": 28,
   "id": "addebf20",
   "metadata": {},
   "outputs": [],
   "source": [
    "def recommend_for_basket(user_basket, recommendation_dict, top_n=5):\n",
    "    recommended_items = []\n",
    "    for item in user_basket:\n",
    "        recs = recommendation_dict.get(item, [])\n",
    "        recommended_items.extend(recs)\n",
    "    recommended_items = list(dict.fromkeys(recommended_items))\n",
    "    recommended_items = [item for item in recommended_items if item not in user_basket]\n",
    "    return recommended_items[:top_n]\n"
   ]
  },
  {
   "cell_type": "code",
   "execution_count": 29,
   "id": "1975edda",
   "metadata": {},
   "outputs": [],
   "source": [
    "# Build recommendation dictionary from rules\n",
    "recommendation_dict = {}\n",
    "for _, row in filtering.iterrows():\n",
    "    for antecedent in row['antecedents']:\n",
    "        if antecedent not in recommendation_dict:\n",
    "            recommendation_dict[antecedent] = []\n",
    "        recommendation_dict[antecedent].extend(list(row['consequents']))\n",
    "\n",
    "for key in recommendation_dict:\n",
    "    recommendation_dict[key] = list(set(recommendation_dict[key]))\n"
   ]
  },
  {
   "cell_type": "markdown",
   "id": "5974961b",
   "metadata": {},
   "source": [
    "Sample usage"
   ]
  },
  {
   "cell_type": "code",
   "execution_count": 30,
   "id": "b33d18a3",
   "metadata": {},
   "outputs": [
    {
     "name": "stdout",
     "output_type": "stream",
     "text": [
      "Your Basket:\n",
      "   - vegetables\n",
      "   - dairy\n",
      "\n",
      "Recommended Items:\n",
      "   1. whole milk\n",
      "   2. beverages\n",
      "   3. meat\n"
     ]
    }
   ],
   "source": [
    "user_basket = ['vegetables', 'dairy']\n",
    "recommendations = recommend_for_basket(user_basket, recommendation_dict, top_n=3)\n",
    "\n",
    "print(\"Your Basket:\")\n",
    "for item in user_basket:\n",
    "    print(f\"   - {item}\")\n",
    "\n",
    "print(\"\\nRecommended Items:\")\n",
    "for idx, rec in enumerate(recommendations, 1):\n",
    "    print(f\"   {idx}. {rec}\")\n"
   ]
  },
  {
   "cell_type": "code",
   "execution_count": null,
   "id": "3e2ab993",
   "metadata": {},
   "outputs": [],
   "source": [
    "# Save encoded matrix\n",
    "df1.to_csv(\"encoded_baskets.csv\", index=False)\n",
    "\n",
    "# Also save mapping info \n",
    "df.to_csv(\"cleaned_groceries.csv\", index=False)"
   ]
  }
 ],
 "metadata": {
  "kernelspec": {
   "display_name": "Python 3",
   "language": "python",
   "name": "python3"
  },
  "language_info": {
   "codemirror_mode": {
    "name": "ipython",
    "version": 3
   },
   "file_extension": ".py",
   "mimetype": "text/x-python",
   "name": "python",
   "nbconvert_exporter": "python",
   "pygments_lexer": "ipython3",
   "version": "3.12.8"
  }
 },
 "nbformat": 4,
 "nbformat_minor": 5
}
