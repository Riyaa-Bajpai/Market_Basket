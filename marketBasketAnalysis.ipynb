{
 "cells": [
  {
   "cell_type": "code",
   "execution_count": 65,
   "id": "1c5550dc",
   "metadata": {},
   "outputs": [],
   "source": [
    "import numpy as np\n",
    "import pandas as pd"
   ]
  },
  {
   "cell_type": "markdown",
   "id": "672b4575",
   "metadata": {},
   "source": [
    "DataSet Loading And Inspection"
   ]
  },
  {
   "cell_type": "code",
   "execution_count": 66,
   "id": "48c9bf75",
   "metadata": {},
   "outputs": [],
   "source": [
    "df=pd.read_csv('Groceries_dataset.csv')"
   ]
  },
  {
   "cell_type": "code",
   "execution_count": 67,
   "id": "5404a00f",
   "metadata": {},
   "outputs": [
    {
     "name": "stdout",
     "output_type": "stream",
     "text": [
      "(38765, 3)\n",
      "<class 'pandas.core.frame.DataFrame'>\n",
      "RangeIndex: 38765 entries, 0 to 38764\n",
      "Data columns (total 3 columns):\n",
      " #   Column           Non-Null Count  Dtype \n",
      "---  ------           --------------  ----- \n",
      " 0   Member_number    38765 non-null  int64 \n",
      " 1   Date             38765 non-null  object\n",
      " 2   itemDescription  38765 non-null  object\n",
      "dtypes: int64(1), object(2)\n",
      "memory usage: 908.7+ KB\n",
      "None\n"
     ]
    }
   ],
   "source": [
    "print(df.shape)\n",
    "print(df.info())"
   ]
  },
  {
   "cell_type": "markdown",
   "id": "fb172a5e",
   "metadata": {},
   "source": [
    "Normalise item names"
   ]
  },
  {
   "cell_type": "code",
   "execution_count": 68,
   "id": "6d40a722",
   "metadata": {},
   "outputs": [],
   "source": [
    "import re"
   ]
  },
  {
   "cell_type": "code",
   "execution_count": 69,
   "id": "7d9344a4",
   "metadata": {},
   "outputs": [],
   "source": [
    "def clean_item(item):\n",
    "    if pd.isna(item):\n",
    "        return \"\"\n",
    "    item = str(item).lower()                 # lowercase\n",
    "    item = re.sub(r'[^a-z\\s]', '', item)     # keep only letters & spaces\n",
    "    item = re.sub(r'\\s+', ' ', item).strip() # collapse multiple spaces\n",
    "    return item\n"
   ]
  },
  {
   "cell_type": "code",
   "execution_count": 70,
   "id": "11c0bbe5",
   "metadata": {},
   "outputs": [
    {
     "name": "stdout",
     "output_type": "stream",
     "text": [
      "  itemDescription         cleaned\n",
      "0  tropical fruit  tropical fruit\n",
      "1      whole milk      whole milk\n"
     ]
    }
   ],
   "source": [
    "df['cleaned'] = df['itemDescription'].apply(clean_item)\n",
    "print(df[['itemDescription', 'cleaned']].head(2))"
   ]
  },
  {
   "cell_type": "markdown",
   "id": "e65b8a7b",
   "metadata": {},
   "source": [
    "Manual mapping"
   ]
  },
  {
   "cell_type": "code",
   "execution_count": 71,
   "id": "367ea25f",
   "metadata": {},
   "outputs": [],
   "source": [
    "mapping = {\n",
    "    # Dairy\n",
    "    \"milk\": \"dairy\",\n",
    "    \"whole milk\": \"dairy\",\n",
    "    \"butter milk\": \"dairy\",\n",
    "    \"cream\": \"dairy\",\n",
    "    \"cream cheese\": \"dairy\",\n",
    "    \"curd\": \"dairy\",\n",
    "    \"curd cheese\": \"dairy\",\n",
    "    \"processed cheese\": \"dairy\",\n",
    "    \"soft cheese\": \"dairy\",\n",
    "    \"spread cheese\": \"dairy\",\n",
    "    \"whipped sour cream\": \"dairy\",\n",
    "    \"yogurt\": \"dairy\",\n",
    "    \"butter\": \"dairy\",\n",
    "    \"hard cheese\": \"dairy\",\n",
    "    \"domestic eggs\": \"dairy\",\n",
    "    \"frozen dessert\": \"dairy\",\n",
    "    \n",
    "    # Bakery\n",
    "    \"brown bread\": \"bakery\",\n",
    "    \"white bread\": \"bakery\",\n",
    "    \"pastry\": \"bakery\",\n",
    "    \"cake bar\": \"bakery\",\n",
    "    \"rolls/buns\": \"bakery\",\n",
    "    \"zwieback\": \"bakery\",\n",
    "    \"baking powder\": \"bakery\",\n",
    "    \"flour\": \"bakery\",\n",
    "    \n",
    "    # Beverages\n",
    "    \"bottled water\": \"beverages\",\n",
    "    \"soda\": \"beverages\",\n",
    "    \"soft drinks\": \"beverages\",\n",
    "    \"fruit/vegetable juice\": \"beverages\",\n",
    "    \"coffee\": \"beverages\",\n",
    "    \"tea\": \"beverages\",\n",
    "    \"instant coffee\": \"beverages\",\n",
    "    \"liqueur\": \"alcohol\",\n",
    "    \"rum\": \"alcohol\",\n",
    "    \"brandy\": \"alcohol\",\n",
    "    \"red/blush wine\": \"alcohol\",\n",
    "    \"white wine\": \"alcohol\",\n",
    "    \"sparkling wine\": \"alcohol\",\n",
    "    \"beer\": \"alcohol\",\n",
    "    \n",
    "    # Meat & Seafood\n",
    "    \"beef\": \"meat\",\n",
    "    \"chicken\": \"meat\",\n",
    "    \"pork\": \"meat\",\n",
    "    \"fish\": \"seafood\",\n",
    "    \"canned fish\": \"seafood\",\n",
    "    \"ham\": \"meat\",\n",
    "    \"sausage\": \"meat\",\n",
    "    \"meat\": \"meat\",\n",
    "    \"frozen fish\": \"seafood\",\n",
    "    \"frozen chicken\": \"meat\",\n",
    "    \n",
    "    # Produce\n",
    "    \"berries\": \"produce\",\n",
    "    \"citrus fruit\": \"produce\",\n",
    "    \"other vegetables\": \"produce\",\n",
    "    \"onions\": \"produce\",\n",
    "    \"root vegetables\": \"produce\",\n",
    "    \"tropical fruit\": \"produce\",\n",
    "    \"pip fruit\": \"produce\",\n",
    "    \"herbs\": \"produce\",\n",
    "    \"salad\": \"produce\",\n",
    "    \"grapes\": \"produce\",\n",
    "    \"cabbage\": \"produce\",\n",
    "    \"mushrooms\": \"produce\",\n",
    "    \"tomatoes\": \"produce\",\n",
    "    \"pot plants\": \"produce\",\n",
    "    \"flower (seeds/plants)\": \"produce\",\n",
    "    \n",
    "    # Household / Cleaning\n",
    "    \"abrasive cleaner\": \"household\",\n",
    "    \"bathroom cleaner\": \"household\",\n",
    "    \"detergent\": \"household\",\n",
    "    \"cleaner\": \"household\",\n",
    "    \"dish cleaner\": \"household\",\n",
    "    \"candles\": \"household\",\n",
    "    \"kitchen towels\": \"household\",\n",
    "    \"napkins\": \"household\",\n",
    "    \"toilet cleaner\": \"household\",\n",
    "    \"sponges\": \"household\",\n",
    "    \"bags\": \"household\",\n",
    "    \"cling film/bags\": \"household\",\n",
    "    \"aluminum foil\": \"household\",\n",
    "    \"light bulbs\": \"household\",\n",
    "    \"matches\": \"household\",\n",
    "    \"cat food\": \"household\",\n",
    "    \"dog food\": \"household\",\n",
    "    \"decalcifier\": \"household\",\n",
    "    \n",
    "    # Personal Care\n",
    "    \"baby cosmetics\": \"personal care\",\n",
    "    \"soap\": \"personal care\",\n",
    "    \"cosmetics\": \"personal care\",\n",
    "    \"shampoo\": \"personal care\",\n",
    "    \"hygiene articles\": \"personal care\",\n",
    "    \"oral hygiene\": \"personal care\",\n",
    "    \"dental care\": \"personal care\",\n",
    "    \"razor blades\": \"personal care\",\n",
    "    \"skin care\": \"personal care\",\n",
    "    \"hair spray\": \"personal care\",\n",
    "    \"male cosmetics\": \"personal care\",\n",
    "    \"perfume\": \"personal care\",\n",
    "    \n",
    "    # Snacks & Confectionery\n",
    "    \"candy\": \"snacks\",\n",
    "    \"chocolate\": \"snacks\",\n",
    "    \"popcorn\": \"snacks\",\n",
    "    \"waffles\": \"snacks\",\n",
    "    \"salty snack\": \"snacks\",\n",
    "    \"chips\": \"snacks\",\n",
    "    \"biscuits\": \"snacks\",\n",
    "    \"ice cream\": \"snacks\",\n",
    "    \"chewing gum\": \"snacks\",\n",
    "    \"nuts/prunes\": \"snacks\",\n",
    "    \"dessert\": \"snacks\",\n",
    "    \"cake\": \"snacks\",\n",
    "    \n",
    "    # Canned & Packaged Foods\n",
    "    \"canned fruit\": \"canned/packaged\",\n",
    "    \"canned vegetables\": \"canned/packaged\",\n",
    "    \"canned beer\": \"alcohol\",\n",
    "    \"soups\": \"canned/packaged\",\n",
    "    \"cereals\": \"canned/packaged\",\n",
    "    \"sugar\": \"canned/packaged\",\n",
    "    \"salt\": \"canned/packaged\",\n",
    "    \"jam\": \"canned/packaged\",\n",
    "    \"honey\": \"canned/packaged\",\n",
    "    \"cooking chocolate\": \"canned/packaged\",\n",
    "    \"pudding powder\": \"canned/packaged\",\n",
    "    \"spices\": \"canned/packaged\",\n",
    "    \"mustard\": \"canned/packaged\",\n",
    "    \"ketchup\": \"canned/packaged\",\n",
    "    \"mayonnaise\": \"canned/packaged\",\n",
    "    \"oil\": \"canned/packaged\",\n",
    "    \"vinegar\": \"canned/packaged\",\n",
    "    \"pickles\": \"canned/packaged\",\n",
    "    \"sauces\": \"canned/packaged\",\n",
    "    \"frozen vegetables\": \"frozen\",\n",
    "    \"frozen potato products\": \"frozen\",\n",
    "    \"frozen meals\": \"frozen\",\n",
    "    \"condensed milk\": \"canned/packaged\",\n",
    "    \n",
    "    # Frozen & Ready Meals\n",
    "    \"frozen dessert\": \"frozen\",\n",
    "    \"frozen fish\": \"frozen\",\n",
    "    \"frozen chicken\": \"frozen\",\n",
    "    \"frozen meals\": \"frozen\",\n",
    "    \"frozen vegetables\": \"frozen\",\n",
    "    \"frozen potato products\": \"frozen\",\n",
    "    \n",
    "}\n"
   ]
  },
  {
   "cell_type": "code",
   "execution_count": null,
   "id": "15778a4a",
   "metadata": {},
   "outputs": [],
   "source": [
    "def map_item(item):\n",
    "    if item in mapping:\n",
    "        return mapping[item]\n",
    "    else:\n",
    "        return \"other\"\n",
    "\n",
    "df['mapped'] = df['cleaned'].apply(map_item)\n"
   ]
  },
  {
   "cell_type": "markdown",
   "id": "75b08427",
   "metadata": {},
   "source": [
    "Group items by Member"
   ]
  },
  {
   "cell_type": "code",
   "execution_count": 73,
   "id": "d511a01e",
   "metadata": {},
   "outputs": [
    {
     "data": {
      "text/plain": [
       "Member_number\n",
       "1000    [other, snacks, alcohol, beverages, meat, pers...\n",
       "1001              [other, beverages, bakery, meat, dairy]\n",
       "Name: mapped, dtype: object"
      ]
     },
     "execution_count": 73,
     "metadata": {},
     "output_type": "execute_result"
    }
   ],
   "source": [
    "baskets=df.groupby('Member_number')['mapped'].apply(lambda x:list(set(x)))\n",
    "baskets.head(2)"
   ]
  },
  {
   "cell_type": "code",
   "execution_count": 74,
   "id": "a6a38773",
   "metadata": {},
   "outputs": [
    {
     "name": "stdout",
     "output_type": "stream",
     "text": [
      "13\n"
     ]
    }
   ],
   "source": [
    "all_items = [item for sublist in baskets for item in sublist]\n",
    "unique_items = sorted(set(all_items))\n",
    "print(len(unique_items))"
   ]
  },
  {
   "cell_type": "code",
   "execution_count": 75,
   "id": "ec77c814",
   "metadata": {},
   "outputs": [],
   "source": [
    "value_counts = df['mapped'].value_counts()\n",
    "common_items = value_counts[value_counts >= 10].index \n",
    "filtered_baskets = baskets.apply(lambda items: [x for x in items if x in common_items])"
   ]
  },
  {
   "cell_type": "code",
   "execution_count": null,
   "id": "601e943a",
   "metadata": {},
   "outputs": [],
   "source": [
    "def get_all_items():\n",
    "    return sorted(df['itemDescription'].str.strip().str.lower().unique())\n"
   ]
  },
  {
   "cell_type": "markdown",
   "id": "b25514af",
   "metadata": {},
   "source": [
    "Transforming"
   ]
  },
  {
   "cell_type": "code",
   "execution_count": 77,
   "id": "0874968d",
   "metadata": {},
   "outputs": [],
   "source": [
    "from mlxtend.preprocessing import TransactionEncoder"
   ]
  },
  {
   "cell_type": "code",
   "execution_count": 78,
   "id": "60177c5a",
   "metadata": {},
   "outputs": [],
   "source": [
    "transaction = filtered_baskets.tolist()"
   ]
  },
  {
   "cell_type": "code",
   "execution_count": 79,
   "id": "11c343c3",
   "metadata": {},
   "outputs": [],
   "source": [
    "t = TransactionEncoder()"
   ]
  },
  {
   "cell_type": "code",
   "execution_count": 80,
   "id": "1e01baf8",
   "metadata": {},
   "outputs": [],
   "source": [
    "to_array = t.fit(transaction).transform(transaction)\n",
    "encoded = pd.DataFrame(to_array, columns = t.columns_)"
   ]
  },
  {
   "cell_type": "code",
   "execution_count": 81,
   "id": "08e7e68c",
   "metadata": {},
   "outputs": [
    {
     "name": "stdout",
     "output_type": "stream",
     "text": [
      "   alcohol  bakery  beverages  canned/packaged  dairy  frozen  household  \\\n",
      "0     True    True       True            False   True   False      False   \n",
      "1    False    True       True            False   True   False      False   \n",
      "\n",
      "   meat  other  personal care  produce  seafood  snacks  \n",
      "0  True   True           True    False    False    True  \n",
      "1  True   True          False    False    False   False  \n"
     ]
    }
   ],
   "source": [
    "print(encoded.head(2))"
   ]
  },
  {
   "cell_type": "code",
   "execution_count": 82,
   "id": "e2f464f7",
   "metadata": {},
   "outputs": [],
   "source": [
    "df1 = pd.DataFrame(to_array.astype(int),columns = t.columns_)"
   ]
  },
  {
   "cell_type": "code",
   "execution_count": 83,
   "id": "a76ec504",
   "metadata": {},
   "outputs": [
    {
     "name": "stdout",
     "output_type": "stream",
     "text": [
      "   alcohol  bakery  beverages  canned/packaged  dairy  frozen  household  \\\n",
      "0        1       1          1                0      1       0          0   \n",
      "1        0       1          1                0      1       0          0   \n",
      "\n",
      "   meat  other  personal care  produce  seafood  snacks  \n",
      "0     1      1              1        0        0       1  \n",
      "1     1      1              0        0        0       0  \n"
     ]
    }
   ],
   "source": [
    "print(df1.head(2))"
   ]
  },
  {
   "cell_type": "markdown",
   "id": "c4f43d11",
   "metadata": {},
   "source": [
    "Fpgrowth"
   ]
  },
  {
   "cell_type": "code",
   "execution_count": 84,
   "id": "df3f0b2c",
   "metadata": {},
   "outputs": [],
   "source": [
    "from mlxtend.frequent_patterns import fpgrowth"
   ]
  },
  {
   "cell_type": "code",
   "execution_count": 85,
   "id": "f4e69203",
   "metadata": {},
   "outputs": [
    {
     "name": "stdout",
     "output_type": "stream",
     "text": [
      "['alcohol', 'bakery', 'beverages', 'canned/packaged', 'dairy', 'frozen', 'household', 'meat', 'other', 'personal care', 'produce', 'seafood', 'snacks']\n"
     ]
    }
   ],
   "source": [
    "print(encoded.columns.tolist())"
   ]
  },
  {
   "cell_type": "code",
   "execution_count": 86,
   "id": "1d60e7e2",
   "metadata": {},
   "outputs": [
    {
     "name": "stdout",
     "output_type": "stream",
     "text": [
      "(3898, 13)\n"
     ]
    }
   ],
   "source": [
    "print(encoded.shape)"
   ]
  },
  {
   "cell_type": "code",
   "execution_count": 87,
   "id": "fb6aa4e5",
   "metadata": {},
   "outputs": [],
   "source": [
    "freq = fpgrowth(encoded, min_support=0.01, use_colnames=True)"
   ]
  },
  {
   "cell_type": "code",
   "execution_count": 88,
   "id": "9a8f3348",
   "metadata": {},
   "outputs": [
    {
     "name": "stdout",
     "output_type": "stream",
     "text": [
      "['alcohol', 'bakery', 'beverages', 'canned/packaged', 'dairy', 'frozen', 'household', 'meat', 'other', 'personal care', 'produce', 'seafood', 'snacks']\n"
     ]
    }
   ],
   "source": [
    "print(encoded.columns.tolist())"
   ]
  },
  {
   "cell_type": "markdown",
   "id": "2284c4e1",
   "metadata": {},
   "source": [
    "Association rules"
   ]
  },
  {
   "cell_type": "code",
   "execution_count": 89,
   "id": "93f3038f",
   "metadata": {},
   "outputs": [],
   "source": [
    "from mlxtend.frequent_patterns import association_rules"
   ]
  },
  {
   "cell_type": "code",
   "execution_count": 90,
   "id": "dbf94204",
   "metadata": {},
   "outputs": [],
   "source": [
    "rules = association_rules(freq,metric='lift',min_threshold=1)\n",
    "rules = rules[['antecedents','consequents','support','confidence','lift']]"
   ]
  },
  {
   "cell_type": "code",
   "execution_count": 91,
   "id": "be67b6c3",
   "metadata": {},
   "outputs": [],
   "source": [
    "filtering = rules[(rules['confidence']>0.4) & (rules['lift']>0.8)]"
   ]
  },
  {
   "cell_type": "code",
   "execution_count": 92,
   "id": "6f3fa439",
   "metadata": {},
   "outputs": [
    {
     "data": {
      "text/html": [
       "<div>\n",
       "<style scoped>\n",
       "    .dataframe tbody tr th:only-of-type {\n",
       "        vertical-align: middle;\n",
       "    }\n",
       "\n",
       "    .dataframe tbody tr th {\n",
       "        vertical-align: top;\n",
       "    }\n",
       "\n",
       "    .dataframe thead th {\n",
       "        text-align: right;\n",
       "    }\n",
       "</style>\n",
       "<table border=\"1\" class=\"dataframe\">\n",
       "  <thead>\n",
       "    <tr style=\"text-align: right;\">\n",
       "      <th></th>\n",
       "      <th>antecedents</th>\n",
       "      <th>consequents</th>\n",
       "      <th>support</th>\n",
       "      <th>confidence</th>\n",
       "      <th>lift</th>\n",
       "    </tr>\n",
       "  </thead>\n",
       "  <tbody>\n",
       "    <tr>\n",
       "      <th>33390</th>\n",
       "      <td>(frozen, canned/packaged, household)</td>\n",
       "      <td>(snacks, meat, produce)</td>\n",
       "      <td>0.010005</td>\n",
       "      <td>0.438202</td>\n",
       "      <td>2.385632</td>\n",
       "    </tr>\n",
       "    <tr>\n",
       "      <th>33368</th>\n",
       "      <td>(snacks, meat, canned/packaged, household)</td>\n",
       "      <td>(frozen, produce)</td>\n",
       "      <td>0.010005</td>\n",
       "      <td>0.423913</td>\n",
       "      <td>2.367354</td>\n",
       "    </tr>\n",
       "  </tbody>\n",
       "</table>\n",
       "</div>"
      ],
      "text/plain": [
       "                                      antecedents              consequents  \\\n",
       "33390        (frozen, canned/packaged, household)  (snacks, meat, produce)   \n",
       "33368  (snacks, meat, canned/packaged, household)        (frozen, produce)   \n",
       "\n",
       "        support  confidence      lift  \n",
       "33390  0.010005    0.438202  2.385632  \n",
       "33368  0.010005    0.423913  2.367354  "
      ]
     },
     "execution_count": 92,
     "metadata": {},
     "output_type": "execute_result"
    }
   ],
   "source": [
    "filtering.sort_values(by='lift', ascending=False).head(2)"
   ]
  },
  {
   "cell_type": "markdown",
   "id": "f12cbde8",
   "metadata": {},
   "source": [
    "Recommendation"
   ]
  },
  {
   "cell_type": "code",
   "execution_count": 93,
   "id": "addebf20",
   "metadata": {},
   "outputs": [],
   "source": [
    "from collections import Counter\n",
    "\n",
    "def recommend_for_basket(user_basket, rules, top_n=5):\n",
    "    user_basket = set(user_basket)\n",
    "    scores = Counter()\n",
    "    \n",
    "    for _, row in rules.iterrows():\n",
    "        antecedent = set(row['antecedents'])\n",
    "        if antecedent.issubset(user_basket):\n",
    "            for rec in row['consequents']:\n",
    "                if rec not in user_basket:\n",
    "                    scores[rec] += row['confidence'] * row['lift']\n",
    "                    \n",
    "    return [item for item, _ in scores.most_common(top_n)]"
   ]
  },
  {
   "cell_type": "code",
   "execution_count": 94,
   "id": "1975edda",
   "metadata": {},
   "outputs": [],
   "source": [
    "def recommend_for_basket(user_basket, rules, top_n=5):\n",
    "    user_basket = set(user_basket)\n",
    "    scores = Counter()\n",
    "    \n",
    "    for _, row in rules.iterrows():\n",
    "        antecedent = set(row['antecedents'])\n",
    "        if antecedent.issubset(user_basket):\n",
    "            consequents = list(row['consequents'])   # convert frozenset to list\n",
    "            for rec in consequents:\n",
    "                if rec not in user_basket:\n",
    "                    scores[rec] += row['confidence'] * row['lift']\n",
    "                    \n",
    "    return [item for item, _ in scores.most_common(top_n)]\n"
   ]
  },
  {
   "cell_type": "markdown",
   "id": "5974961b",
   "metadata": {},
   "source": [
    "Sample usage"
   ]
  },
  {
   "cell_type": "code",
   "execution_count": 95,
   "id": "b33d18a3",
   "metadata": {},
   "outputs": [
    {
     "name": "stdout",
     "output_type": "stream",
     "text": [
      "Your Basket:\n",
      "   - dairy\n",
      "   - fruits\n",
      "\n",
      "Recommended Items:\n",
      "   1. other\n",
      "   2. produce\n",
      "   3. beverages\n"
     ]
    }
   ],
   "source": [
    "user_basket = ['dairy','fruits']\n",
    "recommendations = recommend_for_basket(user_basket, filtering, top_n=3)\n",
    "\n",
    "print(\"Your Basket:\")\n",
    "for item in user_basket:\n",
    "    print(f\"   - {item}\")\n",
    "\n",
    "print(\"\\nRecommended Items:\")\n",
    "for idx, rec in enumerate(recommendations, 1):\n",
    "    print(f\"   {idx}. {rec}\")"
   ]
  },
  {
   "cell_type": "code",
   "execution_count": 96,
   "id": "3e2ab993",
   "metadata": {},
   "outputs": [],
   "source": [
    "df1.to_csv(\"encoded_baskets.csv\", index=False)\n",
    "df.to_csv(\"cleaned_groceries.csv\", index=False)\n",
    "filtered_baskets.to_frame(name=\"basket\").to_csv(\"filtered_baskets.csv\")"
   ]
  }
 ],
 "metadata": {
  "kernelspec": {
   "display_name": "Python 3",
   "language": "python",
   "name": "python3"
  },
  "language_info": {
   "codemirror_mode": {
    "name": "ipython",
    "version": 3
   },
   "file_extension": ".py",
   "mimetype": "text/x-python",
   "name": "python",
   "nbconvert_exporter": "python",
   "pygments_lexer": "ipython3",
   "version": "3.12.2"
  }
 },
 "nbformat": 4,
 "nbformat_minor": 5
}
